{
 "cells": [
  {
   "cell_type": "code",
   "execution_count": 1,
   "metadata": {
    "collapsed": true
   },
   "outputs": [],
   "source": [
    "# Data from https://archive.ics.uci.edu/ml/datasets/Breast+Cancer+Wisconsin+(Diagnostic)"
   ]
  },
  {
   "cell_type": "code",
   "execution_count": 2,
   "metadata": {
    "collapsed": false
   },
   "outputs": [],
   "source": [
    "import pandas as pd\n",
    "import numpy as np"
   ]
  },
  {
   "cell_type": "code",
   "execution_count": 3,
   "metadata": {
    "collapsed": false
   },
   "outputs": [
    {
     "data": {
      "text/html": [
       "<div>\n",
       "<table border=\"1\" class=\"dataframe\">\n",
       "  <thead>\n",
       "    <tr style=\"text-align: right;\">\n",
       "      <th></th>\n",
       "      <th>id</th>\n",
       "      <th>diagnosis</th>\n",
       "      <th>r0</th>\n",
       "      <th>r1</th>\n",
       "      <th>r2</th>\n",
       "      <th>r3</th>\n",
       "      <th>r4</th>\n",
       "      <th>r5</th>\n",
       "      <th>r6</th>\n",
       "      <th>r7</th>\n",
       "      <th>...</th>\n",
       "      <th>r20</th>\n",
       "      <th>r21</th>\n",
       "      <th>r22</th>\n",
       "      <th>r23</th>\n",
       "      <th>r24</th>\n",
       "      <th>r25</th>\n",
       "      <th>r26</th>\n",
       "      <th>r27</th>\n",
       "      <th>r28</th>\n",
       "      <th>r29</th>\n",
       "    </tr>\n",
       "  </thead>\n",
       "  <tbody>\n",
       "    <tr>\n",
       "      <th>0</th>\n",
       "      <td>842302</td>\n",
       "      <td>M</td>\n",
       "      <td>17.99</td>\n",
       "      <td>10.38</td>\n",
       "      <td>122.80</td>\n",
       "      <td>1001.0</td>\n",
       "      <td>0.11840</td>\n",
       "      <td>0.27760</td>\n",
       "      <td>0.3001</td>\n",
       "      <td>0.14710</td>\n",
       "      <td>...</td>\n",
       "      <td>25.38</td>\n",
       "      <td>17.33</td>\n",
       "      <td>184.60</td>\n",
       "      <td>2019.0</td>\n",
       "      <td>0.1622</td>\n",
       "      <td>0.6656</td>\n",
       "      <td>0.7119</td>\n",
       "      <td>0.2654</td>\n",
       "      <td>0.4601</td>\n",
       "      <td>0.11890</td>\n",
       "    </tr>\n",
       "    <tr>\n",
       "      <th>1</th>\n",
       "      <td>842517</td>\n",
       "      <td>M</td>\n",
       "      <td>20.57</td>\n",
       "      <td>17.77</td>\n",
       "      <td>132.90</td>\n",
       "      <td>1326.0</td>\n",
       "      <td>0.08474</td>\n",
       "      <td>0.07864</td>\n",
       "      <td>0.0869</td>\n",
       "      <td>0.07017</td>\n",
       "      <td>...</td>\n",
       "      <td>24.99</td>\n",
       "      <td>23.41</td>\n",
       "      <td>158.80</td>\n",
       "      <td>1956.0</td>\n",
       "      <td>0.1238</td>\n",
       "      <td>0.1866</td>\n",
       "      <td>0.2416</td>\n",
       "      <td>0.1860</td>\n",
       "      <td>0.2750</td>\n",
       "      <td>0.08902</td>\n",
       "    </tr>\n",
       "    <tr>\n",
       "      <th>2</th>\n",
       "      <td>84300903</td>\n",
       "      <td>M</td>\n",
       "      <td>19.69</td>\n",
       "      <td>21.25</td>\n",
       "      <td>130.00</td>\n",
       "      <td>1203.0</td>\n",
       "      <td>0.10960</td>\n",
       "      <td>0.15990</td>\n",
       "      <td>0.1974</td>\n",
       "      <td>0.12790</td>\n",
       "      <td>...</td>\n",
       "      <td>23.57</td>\n",
       "      <td>25.53</td>\n",
       "      <td>152.50</td>\n",
       "      <td>1709.0</td>\n",
       "      <td>0.1444</td>\n",
       "      <td>0.4245</td>\n",
       "      <td>0.4504</td>\n",
       "      <td>0.2430</td>\n",
       "      <td>0.3613</td>\n",
       "      <td>0.08758</td>\n",
       "    </tr>\n",
       "    <tr>\n",
       "      <th>3</th>\n",
       "      <td>84348301</td>\n",
       "      <td>M</td>\n",
       "      <td>11.42</td>\n",
       "      <td>20.38</td>\n",
       "      <td>77.58</td>\n",
       "      <td>386.1</td>\n",
       "      <td>0.14250</td>\n",
       "      <td>0.28390</td>\n",
       "      <td>0.2414</td>\n",
       "      <td>0.10520</td>\n",
       "      <td>...</td>\n",
       "      <td>14.91</td>\n",
       "      <td>26.50</td>\n",
       "      <td>98.87</td>\n",
       "      <td>567.7</td>\n",
       "      <td>0.2098</td>\n",
       "      <td>0.8663</td>\n",
       "      <td>0.6869</td>\n",
       "      <td>0.2575</td>\n",
       "      <td>0.6638</td>\n",
       "      <td>0.17300</td>\n",
       "    </tr>\n",
       "    <tr>\n",
       "      <th>4</th>\n",
       "      <td>84358402</td>\n",
       "      <td>M</td>\n",
       "      <td>20.29</td>\n",
       "      <td>14.34</td>\n",
       "      <td>135.10</td>\n",
       "      <td>1297.0</td>\n",
       "      <td>0.10030</td>\n",
       "      <td>0.13280</td>\n",
       "      <td>0.1980</td>\n",
       "      <td>0.10430</td>\n",
       "      <td>...</td>\n",
       "      <td>22.54</td>\n",
       "      <td>16.67</td>\n",
       "      <td>152.20</td>\n",
       "      <td>1575.0</td>\n",
       "      <td>0.1374</td>\n",
       "      <td>0.2050</td>\n",
       "      <td>0.4000</td>\n",
       "      <td>0.1625</td>\n",
       "      <td>0.2364</td>\n",
       "      <td>0.07678</td>\n",
       "    </tr>\n",
       "  </tbody>\n",
       "</table>\n",
       "<p>5 rows × 32 columns</p>\n",
       "</div>"
      ],
      "text/plain": [
       "         id diagnosis     r0     r1      r2      r3       r4       r5      r6  \\\n",
       "0    842302         M  17.99  10.38  122.80  1001.0  0.11840  0.27760  0.3001   \n",
       "1    842517         M  20.57  17.77  132.90  1326.0  0.08474  0.07864  0.0869   \n",
       "2  84300903         M  19.69  21.25  130.00  1203.0  0.10960  0.15990  0.1974   \n",
       "3  84348301         M  11.42  20.38   77.58   386.1  0.14250  0.28390  0.2414   \n",
       "4  84358402         M  20.29  14.34  135.10  1297.0  0.10030  0.13280  0.1980   \n",
       "\n",
       "        r7   ...       r20    r21     r22     r23     r24     r25     r26  \\\n",
       "0  0.14710   ...     25.38  17.33  184.60  2019.0  0.1622  0.6656  0.7119   \n",
       "1  0.07017   ...     24.99  23.41  158.80  1956.0  0.1238  0.1866  0.2416   \n",
       "2  0.12790   ...     23.57  25.53  152.50  1709.0  0.1444  0.4245  0.4504   \n",
       "3  0.10520   ...     14.91  26.50   98.87   567.7  0.2098  0.8663  0.6869   \n",
       "4  0.10430   ...     22.54  16.67  152.20  1575.0  0.1374  0.2050  0.4000   \n",
       "\n",
       "      r27     r28      r29  \n",
       "0  0.2654  0.4601  0.11890  \n",
       "1  0.1860  0.2750  0.08902  \n",
       "2  0.2430  0.3613  0.08758  \n",
       "3  0.2575  0.6638  0.17300  \n",
       "4  0.1625  0.2364  0.07678  \n",
       "\n",
       "[5 rows x 32 columns]"
      ]
     },
     "execution_count": 3,
     "metadata": {},
     "output_type": "execute_result"
    }
   ],
   "source": [
    "columns = [\"id\", \"diagnosis\"] + [str(\"r\"+str(i)) for i in range(30)]\n",
    "df = pd.read_csv(\"https://archive.ics.uci.edu/ml/machine-learning-databases/breast-cancer-wisconsin/wdbc.data\", names=columns)\n",
    "df.head(5)"
   ]
  },
  {
   "cell_type": "code",
   "execution_count": 27,
   "metadata": {
    "collapsed": false
   },
   "outputs": [
    {
     "data": {
      "text/plain": [
       "(array([[  1.79900000e+01,   1.03800000e+01,   1.22800000e+02,\n",
       "           1.00100000e+03,   1.18400000e-01,   2.77600000e-01,\n",
       "           3.00100000e-01,   1.47100000e-01,   2.41900000e-01,\n",
       "           7.87100000e-02,   1.09500000e+00,   9.05300000e-01,\n",
       "           8.58900000e+00,   1.53400000e+02,   6.39900000e-03,\n",
       "           4.90400000e-02,   5.37300000e-02,   1.58700000e-02,\n",
       "           3.00300000e-02,   6.19300000e-03,   2.53800000e+01,\n",
       "           1.73300000e+01,   1.84600000e+02,   2.01900000e+03,\n",
       "           1.62200000e-01,   6.65600000e-01,   7.11900000e-01,\n",
       "           2.65400000e-01,   4.60100000e-01,   1.18900000e-01],\n",
       "        [  2.05700000e+01,   1.77700000e+01,   1.32900000e+02,\n",
       "           1.32600000e+03,   8.47400000e-02,   7.86400000e-02,\n",
       "           8.69000000e-02,   7.01700000e-02,   1.81200000e-01,\n",
       "           5.66700000e-02,   5.43500000e-01,   7.33900000e-01,\n",
       "           3.39800000e+00,   7.40800000e+01,   5.22500000e-03,\n",
       "           1.30800000e-02,   1.86000000e-02,   1.34000000e-02,\n",
       "           1.38900000e-02,   3.53200000e-03,   2.49900000e+01,\n",
       "           2.34100000e+01,   1.58800000e+02,   1.95600000e+03,\n",
       "           1.23800000e-01,   1.86600000e-01,   2.41600000e-01,\n",
       "           1.86000000e-01,   2.75000000e-01,   8.90200000e-02]]),\n",
       " array(['M', 'M'], dtype=object))"
      ]
     },
     "execution_count": 27,
     "metadata": {},
     "output_type": "execute_result"
    }
   ],
   "source": [
    "X_raw = df.loc[:,columns[2:]].values\n",
    "Y_raw = df.loc[:,columns[1]].values\n",
    "X_raw[:2],Y_raw[:2]"
   ]
  },
  {
   "cell_type": "code",
   "execution_count": 28,
   "metadata": {
    "collapsed": false
   },
   "outputs": [
    {
     "data": {
      "text/plain": [
       "(array([1, 1, 1, 1, 1, 1, 1, 1, 1, 1, 1, 1, 1, 1, 1, 1, 1, 1, 1, 0, 0, 0, 1,\n",
       "        1, 1, 1, 1, 1, 1, 1]),\n",
       " array(['M', 'M', 'M', 'M', 'M', 'M', 'M', 'M', 'M', 'M', 'M', 'M', 'M',\n",
       "        'M', 'M', 'M', 'M', 'M', 'M', 'B', 'B', 'B', 'M', 'M', 'M', 'M',\n",
       "        'M', 'M', 'M', 'M'], dtype=object))"
      ]
     },
     "execution_count": 28,
     "metadata": {},
     "output_type": "execute_result"
    }
   ],
   "source": [
    "from sklearn.preprocessing import LabelEncoder\n",
    "le = LabelEncoder()\n",
    "Y = le.fit_transform(Y_raw)\n",
    "Y[:30], Y_raw[:30]"
   ]
  },
  {
   "cell_type": "code",
   "execution_count": 55,
   "metadata": {
    "collapsed": false
   },
   "outputs": [],
   "source": [
    "from sklearn import preprocessing\n",
    "from sklearn.preprocessing import StandardScaler, MinMaxScaler, Normalizer\n",
    "\n",
    "import numpy as np\n",
    "X_scale = preprocessing.scale(X_raw, axis=0)\n",
    "X_std = StandardScaler().fit_transform(X_raw)\n",
    "X_min_max = MinMaxScaler(feature_range=(0,5)).fit_transform(X_raw)\n",
    "\n",
    "#http://scikit-learn.org/stable/modules/generated/sklearn.preprocessing.MinMaxScaler.html#sklearn.preprocessing.MinMaxScaler\n",
    "#http://scikit-learn.org/stable/modules/generated/sklearn.preprocessing.StandardScaler.html#sklearn.preprocessing.StandardScaler\n",
    "#http://scikit-learn.org/stable/modules/generated/sklearn.preprocessing.Normalizer.html#sklearn.preprocessing.Normalizer   "
   ]
  },
  {
   "cell_type": "code",
   "execution_count": 81,
   "metadata": {
    "collapsed": false
   },
   "outputs": [
    {
     "data": {
      "text/plain": [
       "(array([  1.79900000e+01,   1.03800000e+01,   1.22800000e+02,\n",
       "          1.00100000e+03,   1.18400000e-01,   2.77600000e-01,\n",
       "          3.00100000e-01,   1.47100000e-01,   2.41900000e-01,\n",
       "          7.87100000e-02,   1.09500000e+00,   9.05300000e-01,\n",
       "          8.58900000e+00,   1.53400000e+02,   6.39900000e-03,\n",
       "          4.90400000e-02,   5.37300000e-02,   1.58700000e-02,\n",
       "          3.00300000e-02,   6.19300000e-03,   2.53800000e+01,\n",
       "          1.73300000e+01,   1.84600000e+02,   2.01900000e+03,\n",
       "          1.62200000e-01,   6.65600000e-01,   7.11900000e-01,\n",
       "          2.65400000e-01,   4.60100000e-01,   1.18900000e-01]),\n",
       " array([ 1.09706398, -2.07333501,  1.26993369,  0.9843749 ,  1.56846633,\n",
       "         3.28351467,  2.65287398,  2.53247522,  2.21751501,  2.25574689,\n",
       "         2.48973393, -0.56526506,  2.83303087,  2.48757756, -0.21400165,\n",
       "         1.31686157,  0.72402616,  0.66081994,  1.14875667,  0.90708308,\n",
       "         1.88668963, -1.35929347,  2.30360062,  2.00123749,  1.30768627,\n",
       "         2.61666502,  2.10952635,  2.29607613,  2.75062224,  1.93701461]),\n",
       " array([ 1.09706398, -2.07333501,  1.26993369,  0.9843749 ,  1.56846633,\n",
       "         3.28351467,  2.65287398,  2.53247522,  2.21751501,  2.25574689,\n",
       "         2.48973393, -0.56526506,  2.83303087,  2.48757756, -0.21400165,\n",
       "         1.31686157,  0.72402616,  0.66081994,  1.14875667,  0.90708308,\n",
       "         1.88668963, -1.35929347,  2.30360062,  2.00123749,  1.30768627,\n",
       "         2.61666502,  2.10952635,  2.29607613,  2.75062224,  1.93701461]),\n",
       " array([ 2.60518718,  0.1132905 ,  2.72994264,  1.81866384,  2.96876411,\n",
       "         3.96018649,  3.51569822,  3.6555666 ,  3.43181818,  3.02759056,\n",
       "         1.78073511,  0.60234707,  1.84516798,  1.36905629,  0.79647823,\n",
       "         1.75699222,  0.67840909,  1.50312559,  1.55822592,  0.91521219,\n",
       "         3.10387762,  0.7076226 ,  3.34155087,  2.25348997,  3.00567919,\n",
       "         3.09645778,  2.84305112,  4.56013746,  2.99231224,  2.09431982]))"
      ]
     },
     "execution_count": 81,
     "metadata": {},
     "output_type": "execute_result"
    }
   ],
   "source": [
    "X_raw[0], X_scale[0], X_std[0], X_min_max[0]"
   ]
  },
  {
   "cell_type": "code",
   "execution_count": 87,
   "metadata": {
    "collapsed": true
   },
   "outputs": [],
   "source": [
    "X = X_std"
   ]
  },
  {
   "cell_type": "code",
   "execution_count": 88,
   "metadata": {
    "collapsed": false
   },
   "outputs": [
    {
     "data": {
      "text/plain": [
       "569"
      ]
     },
     "execution_count": 88,
     "metadata": {},
     "output_type": "execute_result"
    }
   ],
   "source": [
    "len(Y)"
   ]
  },
  {
   "cell_type": "code",
   "execution_count": 92,
   "metadata": {
    "collapsed": false
   },
   "outputs": [
    {
     "data": {
      "text/plain": [
       "array([172, 512, 262,  30, 183, 395, 416, 223, 313,  34,  15, 129, 137,\n",
       "       402, 397, 238, 187, 236, 192, 360, 502, 253, 126, 504, 453, 219,\n",
       "        44,  41, 233,  96,  71, 303, 257, 368, 461, 475, 552, 146, 186,\n",
       "       519, 548, 108, 285, 337, 176, 432, 342, 385, 284, 110, 148, 380,\n",
       "       255,  49, 350, 276, 454, 483, 127,   2, 341, 202, 404,  91, 317,\n",
       "       201,  22, 270, 330, 159,  80, 415, 227,   4, 103,  54, 328, 398,\n",
       "       141, 425, 295, 384, 352, 155, 122, 228,  63, 462, 376, 523, 130,\n",
       "       482, 239,  52, 422, 319, 436, 478, 538, 451])"
      ]
     },
     "execution_count": 92,
     "metadata": {},
     "output_type": "execute_result"
    }
   ],
   "source": [
    "random_index = np.arange(569)\n",
    "np.random.shuffle(random_index)\n",
    "random_index[:100]"
   ]
  },
  {
   "cell_type": "code",
   "execution_count": 93,
   "metadata": {
    "collapsed": false
   },
   "outputs": [],
   "source": [
    "training_index = random_index[:int(len(Y) * .8)]\n",
    "test_index = random_index[int(len(Y) * .8):] "
   ]
  },
  {
   "cell_type": "code",
   "execution_count": 95,
   "metadata": {
    "collapsed": false
   },
   "outputs": [],
   "source": [
    "x_train = X[training_index]\n",
    "x_test = X[test_index]\n",
    "y_train  = Y[training_index]\n",
    "y_test = Y[test_index]"
   ]
  },
  {
   "cell_type": "code",
   "execution_count": 97,
   "metadata": {
    "collapsed": false
   },
   "outputs": [
    {
     "data": {
      "text/plain": [
       "((455, 30), (455,), (114, 30), (114,))"
      ]
     },
     "execution_count": 97,
     "metadata": {},
     "output_type": "execute_result"
    }
   ],
   "source": [
    "x_train.shape, y_train.shape, x_test.shape, y_test.shape"
   ]
  },
  {
   "cell_type": "code",
   "execution_count": 80,
   "metadata": {
    "collapsed": false
   },
   "outputs": [],
   "source": [
    "# Train-Test split using Scikit-Learn Module\n",
    "from sklearn.model_selection import train_test_split\n",
    "x_train, x_test, y_train, y_test = train_test_split(X, Y, test_size=0.2, random_state=22)"
   ]
  },
  {
   "cell_type": "code",
   "execution_count": 99,
   "metadata": {
    "collapsed": false
   },
   "outputs": [
    {
     "data": {
      "text/plain": [
       "((455, 30), (455,), (114, 30), (114,))"
      ]
     },
     "execution_count": 99,
     "metadata": {},
     "output_type": "execute_result"
    }
   ],
   "source": [
    "x_train.shape, y_train.shape, x_test.shape, y_test.shape"
   ]
  },
  {
   "cell_type": "code",
   "execution_count": 106,
   "metadata": {
    "collapsed": false
   },
   "outputs": [
    {
     "data": {
      "text/plain": [
       "array([ True,  True,  True,  True,  True,  True,  True,  True,  True,\n",
       "        True,  True,  True,  True,  True,  True,  True,  True,  True,\n",
       "        True,  True,  True,  True,  True,  True,  True,  True,  True,\n",
       "        True,  True,  True,  True,  True,  True,  True,  True,  True,\n",
       "        True,  True,  True,  True,  True,  True,  True,  True,  True,\n",
       "        True,  True,  True,  True,  True,  True,  True,  True,  True,\n",
       "        True,  True,  True, False,  True,  True,  True,  True,  True,\n",
       "        True,  True,  True,  True,  True,  True,  True,  True,  True,\n",
       "        True,  True,  True,  True,  True,  True,  True,  True,  True,\n",
       "        True,  True,  True,  True,  True,  True,  True,  True,  True,\n",
       "        True,  True,  True,  True,  True,  True,  True,  True,  True,\n",
       "        True,  True,  True,  True,  True,  True,  True,  True,  True,\n",
       "        True,  True,  True,  True,  True,  True], dtype=bool)"
      ]
     },
     "execution_count": 106,
     "metadata": {},
     "output_type": "execute_result"
    }
   ],
   "source": [
    "from sklearn import linear_model\n",
    "logreg = linear_model.LogisticRegression()\n",
    "\n",
    "logreg.fit(x_train, y_train)\n",
    "logreg.predict(x_test) == y_test"
   ]
  },
  {
   "cell_type": "code",
   "execution_count": 108,
   "metadata": {
    "collapsed": false
   },
   "outputs": [
    {
     "data": {
      "text/plain": [
       "0.99122807017543857"
      ]
     },
     "execution_count": 108,
     "metadata": {},
     "output_type": "execute_result"
    }
   ],
   "source": [
    "accuracy = sum(logreg.predict(x_test) == y_test) / len(y_test)\n",
    "accuracy"
   ]
  },
  {
   "cell_type": "code",
   "execution_count": 110,
   "metadata": {
    "collapsed": false
   },
   "outputs": [
    {
     "data": {
      "text/plain": [
       "0.0087719298245614308"
      ]
     },
     "execution_count": 110,
     "metadata": {},
     "output_type": "execute_result"
    }
   ],
   "source": [
    "error = 1- accuracy\n",
    "error"
   ]
  },
  {
   "cell_type": "code",
   "execution_count": 111,
   "metadata": {
    "collapsed": false
   },
   "outputs": [
    {
     "data": {
      "text/plain": [
       "0.99122807017543857"
      ]
     },
     "execution_count": 111,
     "metadata": {},
     "output_type": "execute_result"
    }
   ],
   "source": [
    "from sklearn.metrics import accuracy_score\n",
    "accuracy_score(logreg.predict(x_test), y_test)"
   ]
  }
 ],
 "metadata": {
  "anaconda-cloud": {},
  "kernelspec": {
   "display_name": "Python [default]",
   "language": "python",
   "name": "python3"
  },
  "language_info": {
   "codemirror_mode": {
    "name": "ipython",
    "version": 3
   },
   "file_extension": ".py",
   "mimetype": "text/x-python",
   "name": "python",
   "nbconvert_exporter": "python",
   "pygments_lexer": "ipython3",
   "version": "3.5.2"
  }
 },
 "nbformat": 4,
 "nbformat_minor": 2
}
